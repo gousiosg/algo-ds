{
 "cells": [
  {
   "cell_type": "code",
   "execution_count": null,
   "metadata": {
    "collapsed": true
   },
   "outputs": [],
   "source": [
    "def insert(arr, item, k):\n",
    "    if k >= len(arr):\n",
    "        raise Exception\n",
    "    arr[k] = item\n",
    "    \n",
    "    return arr"
   ]
  },
  {
   "cell_type": "code",
   "execution_count": null,
   "metadata": {},
   "outputs": [],
   "source": [
    "insert([1,2,3], 4, 1)"
   ]
  },
  {
   "cell_type": "code",
   "execution_count": 66,
   "metadata": {},
   "outputs": [
    {
     "data": {
      "text/plain": [
       "1"
      ]
     },
     "execution_count": 66,
     "metadata": {},
     "output_type": "execute_result"
    }
   ],
   "source": [
    "a = [0,1,2,3]\n",
    "b = [0, \"foo\", 3, \"bar\"]\n",
    "\n",
    "def filter(arr, pred):\n",
    "    for i in range(len(a)):\n",
    "        if pred(arr[i]):\n",
    "            return i\n",
    "        \n",
    "filter(b, lambda x: x == \"foo\")"
   ]
  },
  {
   "cell_type": "code",
   "execution_count": 63,
   "metadata": {},
   "outputs": [
    {
     "data": {
      "text/plain": [
       "[0]"
      ]
     },
     "execution_count": 63,
     "metadata": {},
     "output_type": "execute_result"
    }
   ],
   "source": [
    "a[0:1]"
   ]
  },
  {
   "cell_type": "code",
   "execution_count": null,
   "metadata": {
    "collapsed": true
   },
   "outputs": [],
   "source": [
    "def append(arr, item):\n",
    "    # Fishy\n",
    "    arr = arr + [None]\n",
    "    arr[len(arr) - 1] = item\n",
    "    \n",
    "    return arr"
   ]
  },
  {
   "cell_type": "code",
   "execution_count": null,
   "metadata": {
    "scrolled": true
   },
   "outputs": [],
   "source": [
    "append([1,2,3], 4)"
   ]
  },
  {
   "cell_type": "code",
   "execution_count": null,
   "metadata": {
    "collapsed": true
   },
   "outputs": [],
   "source": [
    "def remove(arr, item_index):\n",
    "    if item_index >= len(arr):\n",
    "        raise Exception\n",
    "        \n",
    "    return arr[0:item_index] + arr[item_index + 1:len(arr)]"
   ]
  },
  {
   "cell_type": "code",
   "execution_count": null,
   "metadata": {},
   "outputs": [],
   "source": [
    "remove([1,2,3,4,5, 10], 0)"
   ]
  },
  {
   "cell_type": "code",
   "execution_count": null,
   "metadata": {
    "collapsed": true
   },
   "outputs": [],
   "source": [
    "def contains(arr, item):\n",
    "    for i in arr:\n",
    "        if i == item:\n",
    "            return True\n",
    "    return False"
   ]
  },
  {
   "cell_type": "code",
   "execution_count": null,
   "metadata": {
    "collapsed": true
   },
   "outputs": [],
   "source": [
    "def search(arr, item):\n",
    "    for i in range(len(arr)):\n",
    "        if arr[i] == item:\n",
    "            return i\n",
    "  \n",
    "    return -1"
   ]
  },
  {
   "cell_type": "code",
   "execution_count": null,
   "metadata": {},
   "outputs": [],
   "source": [
    "search([1,2,3,4,5], 3)"
   ]
  },
  {
   "cell_type": "code",
   "execution_count": 68,
   "metadata": {},
   "outputs": [],
   "source": [
    "class Stack():\n",
    "    def __init__(self, size = 10):\n",
    "        self.size = size\n",
    "        # Backing array \n",
    "        self.arr = map(lambda x: None, range(self.size))\n",
    "        # Top pointer\n",
    "        self.top = 0\n",
    "        \n",
    "    def push(self, element):\n",
    "        if self.top >= len(self.arr):\n",
    "            raise Exception # StackOveflow\n",
    "\n",
    "        self.arr[self.top] = element\n",
    "        self.top = self.top + 1\n",
    "        print \"push: [%s] %d\" % (', '.join(map(str, self.arr)), self.top)\n",
    "    \n",
    "    def pop(self):\n",
    "        if self.top == 0:\n",
    "            raise Exception # No element in stack\n",
    "    \n",
    "        result = self.arr[self.top - 1]\n",
    "        self.arr[self.top - 1] = None\n",
    "        self.top = self.top - 1\n",
    "        print \"pop: [%s] %d\" % (', '.join(map(str, self.arr)), self.top)\n",
    "        return result"
   ]
  },
  {
   "cell_type": "code",
   "execution_count": 56,
   "metadata": {},
   "outputs": [],
   "source": [
    "class Queue():\n",
    "    def __init__(self, size = -1):\n",
    "        if size > 0:\n",
    "            self.size = size\n",
    "        else:\n",
    "            self.size = 10\n",
    "        # Backing array initialization\n",
    "        self.arr = map(lambda x: None, range(self.size))\n",
    "        # Queue pointers\n",
    "        self.tail = 0\n",
    "        \n",
    "    def peek(self):\n",
    "        return self.arr[self.head]\n",
    "    \n",
    "    def enqueue(self, item):\n",
    "        if self.tail >= len(self.arr):\n",
    "            raise Exception ## Queue full\n",
    "            \n",
    "        self.arr[self.tail] = item\n",
    "        self.tail = self.tail + 1\n",
    "        print \"enqueue: [%s] %d\" % (', '.join(map(str, self.arr)), self.tail)\n",
    "\n",
    "    def dequeue(self):\n",
    "        if self.tail == 0:\n",
    "            raise Exception ## Queue empty\n",
    "\n",
    "        result = self.arr[0]\n",
    "        self.arr = self.arr[1:len(self.arr)] + [None]\n",
    "        self.tail = self.tail - 1\n",
    "        print \"dequeue: [%s] %d\" % (', '.join(map(str, self.arr)), self.tail)\n",
    "        return result\n",
    "\n",
    "    def capacity(self):\n",
    "        return len(self.arr) - self.tail\n",
    "    \n",
    "    def isempty():\n",
    "        return self.tail == 0\n",
    "    \n",
    "    def isfull():\n",
    "        return self.tail == len(self.arr) - 1"
   ]
  },
  {
   "cell_type": "code",
   "execution_count": 60,
   "metadata": {},
   "outputs": [
    {
     "name": "stdout",
     "output_type": "stream",
     "text": [
      "enqueue: [10, None, None, None, None, None, None, None, None, None] 1\n",
      "dequeue: [None, None, None, None, None, None, None, None, None, None] 0\n",
      "10\n"
     ]
    },
    {
     "ename": "Exception",
     "evalue": "",
     "output_type": "error",
     "traceback": [
      "\u001b[0;31m---------------------------------------------------------------------------\u001b[0m",
      "\u001b[0;31mException\u001b[0m                                 Traceback (most recent call last)",
      "\u001b[0;32m<ipython-input-60-2378d4eb8619>\u001b[0m in \u001b[0;36m<module>\u001b[0;34m()\u001b[0m\n\u001b[1;32m      2\u001b[0m \u001b[0mq\u001b[0m\u001b[0;34m.\u001b[0m\u001b[0menqueue\u001b[0m\u001b[0;34m(\u001b[0m\u001b[0;36m10\u001b[0m\u001b[0;34m)\u001b[0m\u001b[0;34m\u001b[0m\u001b[0m\n\u001b[1;32m      3\u001b[0m \u001b[0;32mprint\u001b[0m \u001b[0mq\u001b[0m\u001b[0;34m.\u001b[0m\u001b[0mdequeue\u001b[0m\u001b[0;34m(\u001b[0m\u001b[0;34m)\u001b[0m\u001b[0;34m\u001b[0m\u001b[0m\n\u001b[0;32m----> 4\u001b[0;31m \u001b[0;32mprint\u001b[0m \u001b[0mq\u001b[0m\u001b[0;34m.\u001b[0m\u001b[0mdequeue\u001b[0m\u001b[0;34m(\u001b[0m\u001b[0;34m)\u001b[0m\u001b[0;34m\u001b[0m\u001b[0m\n\u001b[0m",
      "\u001b[0;32m<ipython-input-56-29306e79877b>\u001b[0m in \u001b[0;36mdequeue\u001b[0;34m(self)\u001b[0m\n\u001b[1;32m     23\u001b[0m     \u001b[0;32mdef\u001b[0m \u001b[0mdequeue\u001b[0m\u001b[0;34m(\u001b[0m\u001b[0mself\u001b[0m\u001b[0;34m)\u001b[0m\u001b[0;34m:\u001b[0m\u001b[0;34m\u001b[0m\u001b[0m\n\u001b[1;32m     24\u001b[0m         \u001b[0;32mif\u001b[0m \u001b[0mself\u001b[0m\u001b[0;34m.\u001b[0m\u001b[0mtail\u001b[0m \u001b[0;34m==\u001b[0m \u001b[0;36m0\u001b[0m\u001b[0;34m:\u001b[0m\u001b[0;34m\u001b[0m\u001b[0m\n\u001b[0;32m---> 25\u001b[0;31m             \u001b[0;32mraise\u001b[0m \u001b[0mException\u001b[0m \u001b[0;31m## Queue empty\u001b[0m\u001b[0;34m\u001b[0m\u001b[0m\n\u001b[0m\u001b[1;32m     26\u001b[0m \u001b[0;34m\u001b[0m\u001b[0m\n\u001b[1;32m     27\u001b[0m         \u001b[0mresult\u001b[0m \u001b[0;34m=\u001b[0m \u001b[0mself\u001b[0m\u001b[0;34m.\u001b[0m\u001b[0marr\u001b[0m\u001b[0;34m[\u001b[0m\u001b[0;36m0\u001b[0m\u001b[0;34m]\u001b[0m\u001b[0;34m\u001b[0m\u001b[0m\n",
      "\u001b[0;31mException\u001b[0m: "
     ]
    }
   ],
   "source": [
    "q = Queue(10)\n",
    "q.enqueue(10)\n",
    "print q.dequeue()\n",
    "print q.dequeue()"
   ]
  },
  {
   "cell_type": "code",
   "execution_count": 75,
   "metadata": {},
   "outputs": [],
   "source": [
    "def bpc(paren):\n",
    "    stack = Stack(10)\n",
    "    for i in paren:\n",
    "        if i == \"(\":\n",
    "            stack.push(i)\n",
    "        elif i == \")\":\n",
    "            try:\n",
    "                stack.pop()\n",
    "            except:\n",
    "                return False\n",
    "        else:\n",
    "            #print i\n",
    "            pass\n",
    "\n",
    "    if stack.top == 0:\n",
    "        return True\n",
    "    return False"
   ]
  },
  {
   "cell_type": "code",
   "execution_count": 77,
   "metadata": {},
   "outputs": [
    {
     "name": "stdout",
     "output_type": "stream",
     "text": [
      "push: [(, None, None, None, None, None, None, None, None, None] 1\n",
      "push: [(, (, None, None, None, None, None, None, None, None] 2\n",
      "pop: [(, None, None, None, None, None, None, None, None, None] 1\n",
      "push: [(, (, None, None, None, None, None, None, None, None] 2\n",
      "push: [(, (, (, None, None, None, None, None, None, None] 3\n",
      "push: [(, (, (, (, None, None, None, None, None, None] 4\n",
      "pop: [(, (, (, None, None, None, None, None, None, None] 3\n",
      "push: [(, (, (, (, None, None, None, None, None, None] 4\n",
      "pop: [(, (, (, None, None, None, None, None, None, None] 3\n",
      "pop: [(, (, None, None, None, None, None, None, None, None] 2\n",
      "pop: [(, None, None, None, None, None, None, None, None, None] 1\n"
     ]
    },
    {
     "data": {
      "text/plain": [
       "False"
      ]
     },
     "execution_count": 77,
     "metadata": {},
     "output_type": "execute_result"
    }
   ],
   "source": [
    "bpc(\"(setf (fdefinition 'f)( #'(lambda (a) (block f b...)))\")"
   ]
  },
  {
   "cell_type": "code",
   "execution_count": null,
   "metadata": {
    "collapsed": true
   },
   "outputs": [],
   "source": []
  }
 ],
 "metadata": {
  "kernelspec": {
   "display_name": "Python 2",
   "language": "python",
   "name": "python2"
  },
  "language_info": {
   "codemirror_mode": {
    "name": "ipython",
    "version": 2
   },
   "file_extension": ".py",
   "mimetype": "text/x-python",
   "name": "python",
   "nbconvert_exporter": "python",
   "pygments_lexer": "ipython2",
   "version": "2.7.13"
  }
 },
 "nbformat": 4,
 "nbformat_minor": 2
}
