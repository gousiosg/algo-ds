{
 "cells": [
  {
   "cell_type": "code",
   "execution_count": 82,
   "metadata": {},
   "outputs": [],
   "source": [
    "class Node():\n",
    "    def __init__(self, val, nekst = None):\n",
    "        self.nekst = nekst\n",
    "        self.val = val\n",
    "    \n",
    "    def setNext(self, node):\n",
    "        self.nekst = node\n",
    "    \n",
    "    def getNext(self):\n",
    "        return self.nekst\n",
    "    \n",
    "    def __str__(self):\n",
    "        return \"[%s] -> %s\" % (self. val, self.nekst)\n",
    "\n",
    "n1 = Node(4)\n",
    "n2 = Node(5)\n",
    "n3 = Node(6)"
   ]
  },
  {
   "cell_type": "code",
   "execution_count": 83,
   "metadata": {},
   "outputs": [
    {
     "name": "stdout",
     "output_type": "stream",
     "text": [
      "[4] -> None\n"
     ]
    }
   ],
   "source": [
    "print n1"
   ]
  },
  {
   "cell_type": "code",
   "execution_count": 84,
   "metadata": {},
   "outputs": [
    {
     "name": "stdout",
     "output_type": "stream",
     "text": [
      "[4] -> [5] -> [6] -> None\n"
     ]
    }
   ],
   "source": [
    "n1.setNext(n2)\n",
    "n2.setNext(n3)\n",
    "\n",
    "print n1"
   ]
  },
  {
   "cell_type": "code",
   "execution_count": 108,
   "metadata": {
    "collapsed": true
   },
   "outputs": [],
   "source": [
    "class List():\n",
    "    def __init__(self, head):\n",
    "        self.h = head\n",
    "        \n",
    "    def head(self):\n",
    "        return self.h\n",
    "    \n",
    "    def tail(self):\n",
    "        current = self.h\n",
    "        while current.getNext() is not None:\n",
    "            current = current.getNext()\n",
    "            \n",
    "        return current\n",
    "    \n",
    "    def append(self, node):\n",
    "        tail = self.tail()\n",
    "        tail.setNext(node)\n",
    "    \n",
    "    \n",
    "    def append(self, val):\n",
    "        n = Node(val)\n",
    "        self.append(n)\n",
    "    \n",
    "    def insertNode(self, existing, new):\n",
    "        tmp = existing.getNext()\n",
    "        existing.setNext(new)\n",
    "        new.setNext(tmp)\n",
    "    \n",
    "    def __str__(self):\n",
    "        return self.head.__str__()"
   ]
  },
  {
   "cell_type": "code",
   "execution_count": 109,
   "metadata": {},
   "outputs": [],
   "source": [
    "l = List(n1)"
   ]
  },
  {
   "cell_type": "code",
   "execution_count": 110,
   "metadata": {},
   "outputs": [
    {
     "name": "stdout",
     "output_type": "stream",
     "text": [
      "<bound method List.head of <__main__.List instance at 0x10a91c758>>\n"
     ]
    }
   ],
   "source": [
    "print l"
   ]
  },
  {
   "cell_type": "code",
   "execution_count": 111,
   "metadata": {},
   "outputs": [
    {
     "name": "stdout",
     "output_type": "stream",
     "text": [
      "[6] -> None\n"
     ]
    }
   ],
   "source": [
    "print l.tail()"
   ]
  },
  {
   "cell_type": "code",
   "execution_count": 112,
   "metadata": {},
   "outputs": [
    {
     "name": "stdout",
     "output_type": "stream",
     "text": [
      "[4] -> [5] -> [6] -> None\n"
     ]
    }
   ],
   "source": [
    "print l.head()"
   ]
  },
  {
   "cell_type": "code",
   "execution_count": 113,
   "metadata": {
    "collapsed": true
   },
   "outputs": [],
   "source": [
    "n4 = Node(7)"
   ]
  },
  {
   "cell_type": "code",
   "execution_count": 114,
   "metadata": {},
   "outputs": [],
   "source": [
    "l.append(n4)"
   ]
  },
  {
   "cell_type": "code",
   "execution_count": 116,
   "metadata": {},
   "outputs": [
    {
     "name": "stdout",
     "output_type": "stream",
     "text": [
      "[4] -> [5] -> [6] -> [7] -> None\n"
     ]
    }
   ],
   "source": [
    "print l.head()"
   ]
  },
  {
   "cell_type": "code",
   "execution_count": null,
   "metadata": {
    "collapsed": true
   },
   "outputs": [],
   "source": []
  }
 ],
 "metadata": {
  "kernelspec": {
   "display_name": "Python 2",
   "language": "python",
   "name": "python2"
  },
  "language_info": {
   "codemirror_mode": {
    "name": "ipython",
    "version": 2
   },
   "file_extension": ".py",
   "mimetype": "text/x-python",
   "name": "python",
   "nbconvert_exporter": "python",
   "pygments_lexer": "ipython2",
   "version": "2.7.13"
  }
 },
 "nbformat": 4,
 "nbformat_minor": 2
}
