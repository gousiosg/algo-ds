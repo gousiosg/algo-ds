{
 "cells": [
  {
   "cell_type": "markdown",
   "metadata": {},
   "source": [
    "# Exam January 2018"
   ]
  },
  {
   "cell_type": "markdown",
   "metadata": {},
   "source": [
    "What is the divide and conquer (D&C) algorithmic technique? Describe an algorithm that\n",
    "uses D&C and present its evaluation strategy."
   ]
  },
  {
   "cell_type": "code",
   "execution_count": null,
   "metadata": {
    "collapsed": true
   },
   "outputs": [],
   "source": []
  },
  {
   "cell_type": "markdown",
   "metadata": {},
   "source": [
    "A typical problem with recursion is stack over ow errors. Write an (any!) function that will over ow and re-write it so that it does not"
   ]
  },
  {
   "cell_type": "code",
   "execution_count": 11,
   "metadata": {
    "collapsed": true
   },
   "outputs": [],
   "source": [
    "def foo(n):\n",
    "    if n == 0:\n",
    "        return 0\n",
    "    return 1 + foo(n - 1)"
   ]
  },
  {
   "cell_type": "code",
   "execution_count": 12,
   "metadata": {},
   "outputs": [
    {
     "data": {
      "text/plain": [
       "100"
      ]
     },
     "execution_count": 12,
     "metadata": {},
     "output_type": "execute_result"
    }
   ],
   "source": [
    "foo(100)"
   ]
  },
  {
   "cell_type": "code",
   "execution_count": 13,
   "metadata": {
    "collapsed": true
   },
   "outputs": [],
   "source": [
    "def foo_it(n):\n",
    "    i = 0\n",
    "    for j in range(0, n):\n",
    "        i = i + 1\n",
    "    return i"
   ]
  },
  {
   "cell_type": "code",
   "execution_count": 14,
   "metadata": {},
   "outputs": [
    {
     "data": {
      "text/plain": [
       "10000"
      ]
     },
     "execution_count": 14,
     "metadata": {},
     "output_type": "execute_result"
    }
   ],
   "source": [
    "foo_it(10000)"
   ]
  },
  {
   "cell_type": "markdown",
   "metadata": {},
   "source": [
    " Rewrite the Towers of Hanoi algorithm given below so that each individual recursion branch is only executed once."
   ]
  },
  {
   "cell_type": "raw",
   "metadata": {},
   "source": [
    "def fib(x):\n",
    "    if x == 0: return 0\n",
    "    elif x == 1: return 1\n",
    "    else: return fib(x - 2) + fib(x - 1)"
   ]
  },
  {
   "cell_type": "code",
   "execution_count": 16,
   "metadata": {},
   "outputs": [
    {
     "data": {
      "text/plain": [
       "832040"
      ]
     },
     "execution_count": 16,
     "metadata": {},
     "output_type": "execute_result"
    }
   ],
   "source": [
    "fib(30)"
   ]
  },
  {
   "cell_type": "code",
   "execution_count": 17,
   "metadata": {
    "collapsed": true
   },
   "outputs": [],
   "source": [
    "mem = {}\n",
    "mem[0] = 0\n",
    "mem[1] = 1\n",
    "def fib_mem(x):\n",
    "    if x in mem.keys():\n",
    "        return mem[x]\n",
    "\n",
    "    mem[x] = fib_mem(x - 2) + fib_mem(x - 1)\n",
    "    return mem[x]"
   ]
  },
  {
   "cell_type": "code",
   "execution_count": 18,
   "metadata": {},
   "outputs": [
    {
     "data": {
      "text/plain": [
       "832040"
      ]
     },
     "execution_count": 18,
     "metadata": {},
     "output_type": "execute_result"
    }
   ],
   "source": [
    "fib_mem(30)"
   ]
  },
  {
   "cell_type": "markdown",
   "metadata": {},
   "source": [
    "Write a _class_ that implements a singly linked list. Make\n",
    "sure it includes a constructor, a node addition and a node removal operation."
   ]
  },
  {
   "cell_type": "code",
   "execution_count": 19,
   "metadata": {
    "collapsed": true
   },
   "outputs": [],
   "source": [
    "#!/usr/bin/env python\n",
    "\n",
    "class IntList(object):\n",
    "    \n",
    "    class Node(object):\n",
    "        def __init__(self, val, next = None):\n",
    "            self.val = val\n",
    "            self.next = next\n",
    "\n",
    "    def __init__(self):\n",
    "        self.head = None\n",
    "        self.cur = None\n",
    "        self.length = 0\n",
    "        pass\n",
    "        \n",
    "    def add(self, val):\n",
    "        node = IntList.Node(val)\n",
    "\n",
    "        if self.head is None:\n",
    "            self.head = node\n",
    "            self.cur = node\n",
    "        else:\n",
    "            self.cur.next = node\n",
    "            self.cur = node\n",
    "    \n",
    "    # Remove all elements equal to val\n",
    "    def remove(self, val):\n",
    "        prev = self.head\n",
    "        p = self.head\n",
    "        while p:\n",
    "            if p.val != val:\n",
    "                prev = p\n",
    "                p = p.next\n",
    "                continue\n",
    "\n",
    "            if p == self.head:\n",
    "                self.head = p.next\n",
    "            else:\n",
    "                prev.next = p.next\n",
    "                p = p.next\n",
    "\n",
    "    #Prints our list formated as a Python array\n",
    "    def __str__(self):\n",
    "        res = \"[\"\n",
    "        cur = self.head\n",
    "        while cur:\n",
    "            res = \"%s %d,\" % (res, cur.val)\n",
    "            cur = cur.next\n",
    "        if res[-1] is ',':\n",
    "            res = res[:-1]\n",
    "        res = res + \" ]\"\n",
    "        return res\n",
    "    \n",
    "    __repr__ = __str__"
   ]
  },
  {
   "cell_type": "code",
   "execution_count": 20,
   "metadata": {},
   "outputs": [
    {
     "name": "stdout",
     "output_type": "stream",
     "text": [
      "[ ]\n",
      "[ 5, 10 ]\n",
      "[ 5, 10, 15, 5 ]\n",
      "[ 10, 15 ]\n"
     ]
    }
   ],
   "source": [
    "a = IntList()\n",
    "print(a)\n",
    "a.add(5)\n",
    "a.add(10)\n",
    "print a\n",
    "a.add(15)\n",
    "a.add(5)\n",
    "print(a)\n",
    "a.remove(5)\n",
    "print(a)"
   ]
  },
  {
   "cell_type": "code",
   "execution_count": 21,
   "metadata": {},
   "outputs": [
    {
     "name": "stdout",
     "output_type": "stream",
     "text": [
      "[ ]\n",
      "[ 5, 6, 7, 6, 6, 5 ]\n",
      "[ 5, 7, 5 ]\n"
     ]
    }
   ],
   "source": [
    "a = IntList()\n",
    "print(a)\n",
    "a.add(5)\n",
    "a.add(6)\n",
    "a.add(7)\n",
    "a.add(6)\n",
    "a.add(6)\n",
    "a.add(5)\n",
    "print a\n",
    "a.remove(6)\n",
    "print a"
   ]
  },
  {
   "cell_type": "code",
   "execution_count": 22,
   "metadata": {},
   "outputs": [
    {
     "name": "stdout",
     "output_type": "stream",
     "text": [
      "[ ]\n",
      "[ 5, 6, 5 ]\n",
      "[ 6 ]\n"
     ]
    }
   ],
   "source": [
    "b = IntList()\n",
    "b.add(5)\n",
    "b.remove(5)\n",
    "print b\n",
    "b.add(5)\n",
    "b.add(6)\n",
    "b.add(5)\n",
    "print b\n",
    "b.remove(5)\n",
    "print b"
   ]
  },
  {
   "cell_type": "markdown",
   "metadata": {},
   "source": [
    "Write a recursive implementation of `quicksort`"
   ]
  },
  {
   "cell_type": "code",
   "execution_count": 23,
   "metadata": {
    "collapsed": true
   },
   "outputs": [],
   "source": [
    "def quicksort(xs):\n",
    "    if xs:\n",
    "        pivot = xs[0]\n",
    "        below = [i for i in xs[1:] if i < pivot] \n",
    "        above = [i for i in xs[1:] if i >= pivot]\n",
    "        return quicksort(below) + [pivot] + quicksort(above)\n",
    "    else: \n",
    "        return xs"
   ]
  },
  {
   "cell_type": "code",
   "execution_count": 24,
   "metadata": {},
   "outputs": [
    {
     "data": {
      "text/plain": [
       "[2, 2, 3, 3, 4, 5, 5, 6]"
      ]
     },
     "execution_count": 24,
     "metadata": {},
     "output_type": "execute_result"
    }
   ],
   "source": [
    "quicksort([2,3,5,3,2,4,5,6])"
   ]
  },
  {
   "cell_type": "markdown",
   "metadata": {},
   "source": [
    "Calculate the jump table used by the Knuth-Morris-Pratt algorithm, for the search pattern $P=12332112$."
   ]
  },
  {
   "cell_type": "code",
   "execution_count": 25,
   "metadata": {
    "collapsed": true
   },
   "outputs": [],
   "source": [
    "def jump_table(pattern):\n",
    "    # Create the resulting table, which for length zero is None.\n",
    "    result = [None]\n",
    "\n",
    "    for i in range(0, len(pattern)):\n",
    "        j = i\n",
    "\n",
    "        while True:\n",
    "            if j == 0:\n",
    "                result.append(0)\n",
    "                break\n",
    "\n",
    "            if pattern[result[j]] == pattern[i]:\n",
    "                result.append(result[j] + 1)\n",
    "                break\n",
    "\n",
    "            j = result[j]\n",
    "    \n",
    "    return result"
   ]
  },
  {
   "cell_type": "code",
   "execution_count": 26,
   "metadata": {},
   "outputs": [
    {
     "data": {
      "text/plain": [
       "[None, 0, 0, 0, 0, 0, 1, 1, 2]"
      ]
     },
     "execution_count": 26,
     "metadata": {},
     "output_type": "execute_result"
    }
   ],
   "source": [
    "jump_table(\"12332112\")"
   ]
  }
 ],
 "metadata": {
  "kernelspec": {
   "display_name": "Python 2",
   "language": "python",
   "name": "python2"
  },
  "language_info": {
   "codemirror_mode": {
    "name": "ipython",
    "version": 2
   },
   "file_extension": ".py",
   "mimetype": "text/x-python",
   "name": "python",
   "nbconvert_exporter": "python",
   "pygments_lexer": "ipython2",
   "version": "2.7.14"
  }
 },
 "nbformat": 4,
 "nbformat_minor": 2
}
