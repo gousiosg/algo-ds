{
 "cells": [
  {
   "cell_type": "markdown",
   "metadata": {},
   "source": [
    "# Exam January 2018"
   ]
  },
  {
   "cell_type": "markdown",
   "metadata": {},
   "source": [
    "What is the divide and conquer (D&C) algorithmic technique? Describe an algorithm that\n",
    "uses D&C and present its evaluation strategy."
   ]
  },
  {
   "cell_type": "code",
   "execution_count": null,
   "metadata": {
    "collapsed": true
   },
   "outputs": [],
   "source": []
  },
  {
   "cell_type": "markdown",
   "metadata": {},
   "source": [
    "A typical problem with recursion is stack over ow errors. Write an (any!) function that will over ow and re-write it so that it does not"
   ]
  },
  {
   "cell_type": "code",
   "execution_count": 6,
   "metadata": {},
   "outputs": [],
   "source": [
    "def foo(n):\n",
    "    if n == 0:\n",
    "        return 0\n",
    "    return 1 + foo(n - 1)"
   ]
  },
  {
   "cell_type": "code",
   "execution_count": 10,
   "metadata": {},
   "outputs": [
    {
     "data": {
      "text/plain": [
       "100"
      ]
     },
     "execution_count": 10,
     "metadata": {},
     "output_type": "execute_result"
    }
   ],
   "source": [
    "foo(100)"
   ]
  },
  {
   "cell_type": "code",
   "execution_count": 12,
   "metadata": {},
   "outputs": [],
   "source": [
    "def foo_it(n):\n",
    "    i = 0\n",
    "    for j in range(0, n):\n",
    "        i = i + 1\n",
    "    return i"
   ]
  },
  {
   "cell_type": "code",
   "execution_count": 15,
   "metadata": {},
   "outputs": [
    {
     "data": {
      "text/plain": [
       "10000"
      ]
     },
     "execution_count": 15,
     "metadata": {},
     "output_type": "execute_result"
    }
   ],
   "source": [
    "foo_it(10000)"
   ]
  },
  {
   "cell_type": "markdown",
   "metadata": {},
   "source": [
    " Rewrite the Towers of Hanoi algorithm given below so that each individual recursion branch is only executed once."
   ]
  },
  {
   "cell_type": "code",
   "execution_count": 21,
   "metadata": {},
   "outputs": [],
   "source": [
    "def fib(x):\n",
    "    if x == 0: return 0\n",
    "    elif x == 1: return 1\n",
    "    else: return fib(x - 2) + fib(x - 1)"
   ]
  },
  {
   "cell_type": "code",
   "execution_count": 25,
   "metadata": {},
   "outputs": [
    {
     "data": {
      "text/plain": [
       "832040"
      ]
     },
     "execution_count": 25,
     "metadata": {},
     "output_type": "execute_result"
    }
   ],
   "source": [
    "fib(30)"
   ]
  },
  {
   "cell_type": "code",
   "execution_count": 23,
   "metadata": {
    "collapsed": true
   },
   "outputs": [],
   "source": [
    "mem = {}\n",
    "mem[0] = 0\n",
    "mem[1] = 1\n",
    "def fib_mem(x):\n",
    "    if x in mem.keys():\n",
    "        return mem[x]\n",
    "\n",
    "    mem[x] = fib_mem(x - 2) + fib_mem(x - 1)\n",
    "    return mem[x]"
   ]
  },
  {
   "cell_type": "code",
   "execution_count": 26,
   "metadata": {},
   "outputs": [
    {
     "data": {
      "text/plain": [
       "832040"
      ]
     },
     "execution_count": 26,
     "metadata": {},
     "output_type": "execute_result"
    }
   ],
   "source": [
    "fib_mem(30)"
   ]
  },
  {
   "cell_type": "markdown",
   "metadata": {},
   "source": [
    "Write a _class_ that implements a singly linked list. Make\n",
    "sure it includes a constructor, a node addition and a node removal operation."
   ]
  },
  {
   "cell_type": "code",
   "execution_count": 55,
   "metadata": {},
   "outputs": [],
   "source": [
    "class IntList(object):\n",
    "    \n",
    "    class Node(object):\n",
    "        def __init__(self, val, next):\n",
    "            self.val = val\n",
    "\n",
    "    def __init__(self):\n",
    "        self.head = None\n",
    "        pass\n",
    "        \n",
    "    def add(self, val):\n",
    "        new_head = IntList.Node(val, self.head)\n",
    "        self.head = new_head\n",
    "        \n",
    "    def remove_at(self, idx):\n",
    "        pass"
   ]
  },
  {
   "cell_type": "code",
   "execution_count": 60,
   "metadata": {},
   "outputs": [],
   "source": [
    "a = IntList()\n",
    "a.add(5)\n",
    "a.add(6)\n",
    "a.add(7)\n",
    "a.add(7)\n",
    "a.add(7)\n",
    "a.add(3)\n",
    "a.add(7)"
   ]
  },
  {
   "cell_type": "markdown",
   "metadata": {},
   "source": [
    "Write a recursive implementation of `quicksort`"
   ]
  },
  {
   "cell_type": "code",
   "execution_count": 63,
   "metadata": {
    "collapsed": true
   },
   "outputs": [],
   "source": [
    "def quicksort(xs):\n",
    "    if xs:\n",
    "        pivot = xs[0]\n",
    "        below = [i for i in xs[1:] if i < pivot] \n",
    "        above = [i for i in xs[1:] if i >= pivot]\n",
    "        return quicksort(below) + [pivot] + quicksort(above)\n",
    "    else: \n",
    "        return xs"
   ]
  },
  {
   "cell_type": "code",
   "execution_count": 64,
   "metadata": {},
   "outputs": [
    {
     "data": {
      "text/plain": [
       "[2, 2, 3, 3, 4, 5, 5, 6]"
      ]
     },
     "execution_count": 64,
     "metadata": {},
     "output_type": "execute_result"
    }
   ],
   "source": [
    "quicksort([2,3,5,3,2,4,5,6])"
   ]
  },
  {
   "cell_type": "markdown",
   "metadata": {},
   "source": [
    "Calculate the jump table used by the Knuth-Morris-Pratt algorithm, for the search pattern $P=12332112$."
   ]
  },
  {
   "cell_type": "code",
   "execution_count": 67,
   "metadata": {
    "collapsed": true
   },
   "outputs": [],
   "source": [
    "def jump_table(pattern):\n",
    "    # Create the resulting table, which for length zero is None.\n",
    "    result = [None]\n",
    "\n",
    "    for i in range(0, len(pattern)):\n",
    "        j = i\n",
    "\n",
    "        while True:\n",
    "            if j == 0:\n",
    "                result.append(0)\n",
    "                break\n",
    "\n",
    "            if pattern[result[j]] == pattern[i]:\n",
    "                result.append(result[j] + 1)\n",
    "                break\n",
    "\n",
    "            j = result[j]\n",
    "    \n",
    "    return result"
   ]
  },
  {
   "cell_type": "code",
   "execution_count": 69,
   "metadata": {},
   "outputs": [
    {
     "data": {
      "text/plain": [
       "[None, 0, 0, 0, 0, 0, 1, 1, 2]"
      ]
     },
     "execution_count": 69,
     "metadata": {},
     "output_type": "execute_result"
    }
   ],
   "source": [
    "jump_table(\"12332112\")"
   ]
  },
  {
   "cell_type": "code",
   "execution_count": null,
   "metadata": {
    "collapsed": true
   },
   "outputs": [],
   "source": []
  }
 ],
 "metadata": {
  "kernelspec": {
   "display_name": "Python 2",
   "language": "python",
   "name": "python2"
  },
  "language_info": {
   "codemirror_mode": {
    "name": "ipython",
    "version": 2
   },
   "file_extension": ".py",
   "mimetype": "text/x-python",
   "name": "python",
   "nbconvert_exporter": "python",
   "pygments_lexer": "ipython2",
   "version": "2.7.14"
  }
 },
 "nbformat": 4,
 "nbformat_minor": 2
}
