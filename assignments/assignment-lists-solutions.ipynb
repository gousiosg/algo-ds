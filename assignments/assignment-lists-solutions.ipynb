{
 "cells": [
  {
   "cell_type": "markdown",
   "metadata": {},
   "source": [
    "### Doubly Linked List\n",
    "\n",
    "The purpose of this assignment is to make you familiar with implementing a data structure in Python in an object oriented way.\n",
    "During the lectures, you were presented pseudo code of different basic data structures. Now we expect you to implement one of these structures yourself.\n",
    "\n",
    "To make it clear what is needed, we will provide you with two classes: **Node** and **DoublyLinkedList**. The first one is already implemented (you don't need to modify it), the second one consist only a structure of empty methods defined. Your task is to come up with an implementation of these methods.\n",
    "\n",
    "_Note_: If a list is doubly linked, each node contains a reference to the _previous_ node in the chain and a reference to the _next_ node.\n",
    "\n",
    "You are expected to implement every function in DoublyLinkedList. Including the *next()* function, which is used by an iterator object in python. The *map(func)* function applies a function to every element in the list.\n",
    "All other functions are available in the slides/book."
   ]
  },
  {
   "cell_type": "markdown",
   "metadata": {},
   "source": [
    "## Constructing a Doubly Linked List\n",
    "\n",
    "The **Node** class implementation is already given:"
   ]
  },
  {
   "cell_type": "code",
   "execution_count": 1,
   "metadata": {
    "collapsed": true
   },
   "outputs": [],
   "source": [
    "class Node(object):\n",
    "    \"\"\"Doubly linked node which stores an object\"\"\"\n",
    "\n",
    "    def __init__(self, element, next_node=None, previous_node=None):\n",
    "        self.__element = element\n",
    "        self.__next_node = next_node\n",
    "        self.__previous_node = previous_node\n",
    "\n",
    "    def get_element(self):\n",
    "        \"\"\"Returns the element stored in this node\"\"\"\n",
    "        return self.__element\n",
    "\n",
    "    def get_previous(self):\n",
    "        \"\"\"Returns the previous linked node\"\"\"\n",
    "        return self.__previous_node\n",
    "\n",
    "    def get_next(self):\n",
    "        \"\"\"Returns the next linked node\"\"\"\n",
    "        return self.__next_node\n",
    "\n",
    "    def set_element(self, element):\n",
    "        \"\"\"Sets the element stored in this node\"\"\"\n",
    "        self.__element = element\n",
    "\n",
    "    def set_previous(self, previous_node):\n",
    "        \"\"\"Sets the previous linked node\"\"\"\n",
    "        self.__previous_node = previous_node\n",
    "\n",
    "    def set_next(self, next_node):\n",
    "        \"\"\"Sets the next linked node\"\"\"\n",
    "        self.__next_node = next_node"
   ]
  },
  {
   "cell_type": "markdown",
   "metadata": {},
   "source": [
    "The following code snippet is a constructor provided by the **DoublyLinkedList** Python class for the creation of a new doubly linked list. **Extend the snippet below with your implementation of the DoublyLinkedList**. "
   ]
  },
  {
   "cell_type": "code",
   "execution_count": 2,
   "metadata": {
    "collapsed": true
   },
   "outputs": [],
   "source": [
    "class DoublyLinkedList(object):\n",
    "    \"\"\"Doubly linked node data structure\"\"\"\n",
    "\n",
    "    def __init__(self):\n",
    "        self.__size = 0\n",
    "        self.__header = Node('Header')\n",
    "        self.__trailer = Node('Trailer')\n",
    "        self.__header.set_next(self.__trailer)\n",
    "        self.__trailer.set_previous(self.__header)\n",
    "        self.__current = None\n",
    "\n",
    "    def __iter__(self):\n",
    "        self.__current = None\n",
    "        return self\n",
    "\n",
    "    def __next__(self):\n",
    "        \"\"\"Standard python iterator method\"\"\"\n",
    "        if self.is_empty() or self.__current == self.__trailer:\n",
    "            raise StopIteration()\n",
    "        elif self.__current is None:\n",
    "            self.__current = self.__header\n",
    "        self.__current = self.__current.get_next()\n",
    "        return self.__current\n",
    "\n",
    "    def map(self, function):\n",
    "        \"\"\"Run function on every element in the list\"\"\"\n",
    "        for node in self:\n",
    "            if node != self.__trailer and node != self.__header:\n",
    "                node.set_element(function(node.get_element()))\n",
    "\n",
    "    def size(self):\n",
    "        \"\"\"Returns the number of elements in the list\"\"\"\n",
    "        return self.__size\n",
    "\n",
    "    def is_empty(self):\n",
    "        \"\"\"Returns the number of elements in the list\"\"\"\n",
    "        return self.__size == 0\n",
    "\n",
    "    def get_first(self):\n",
    "        \"\"\"Get the first element of the list\"\"\"\n",
    "        if self.is_empty():\n",
    "            raise Exception(\"List is empty\")\n",
    "        else:\n",
    "            return self.__header.get_next()\n",
    "\n",
    "    def get_last(self):\n",
    "        \"\"\"Get the last element of the list\"\"\"\n",
    "        if self.is_empty():\n",
    "            raise Exception(\"List is empty\")\n",
    "        else:\n",
    "            return self.__trailer.get_previous()\n",
    "\n",
    "    def get_previous(self, node):\n",
    "        \"\"\"Returns the node before the given node\"\"\"\n",
    "        if node == self.__header:\n",
    "            raise Exception(\"Cannot get the element before the header of this list\")\n",
    "        else:\n",
    "            return node.get_previous()\n",
    "\n",
    "    def get_next(self, node):\n",
    "        \"\"\"Returns the node after the given node\"\"\"\n",
    "        if node == self.__trailer:\n",
    "            raise Exception(\"Cannot get the element after the trailer of this list\")\n",
    "        else:\n",
    "            return node.get_next()\n",
    "\n",
    "    def add_before(self, new, existing):\n",
    "        \"\"\"Insert the new before existing\"\"\"\n",
    "        previous_existing = self.get_previous(existing)\n",
    "        new.set_previous(previous_existing)\n",
    "        new.set_next(existing)\n",
    "        existing.set_previous(new)\n",
    "        previous_existing.set_next(new)\n",
    "        self.__size += 1\n",
    "\n",
    "    def add_after(self, new, existing):\n",
    "        \"\"\"Insert the new after existing\"\"\"\n",
    "        next_existing = self.get_next(existing)\n",
    "        new.set_previous(existing)\n",
    "        new.set_next(next_existing)\n",
    "        existing.set_next(new)\n",
    "        next_existing.set_previous(new)\n",
    "        self.__size += 1\n",
    "\n",
    "    def add_first(self, new):\n",
    "        \"\"\"Insert the node at the head of the list\"\"\"\n",
    "        self.add_after(new, self.__header)\n",
    "\n",
    "    def add_last(self, new):\n",
    "        \"\"\"Insert the node at the tail of the list\"\"\"\n",
    "        self.add_before(new, self.__trailer)\n",
    "\n",
    "    def remove(self, node):\n",
    "        \"\"\"Removes the given node from the list\"\"\"\n",
    "        before = self.get_previous(node)\n",
    "        after = self.get_next(node)\n",
    "        before.set_next(after)\n",
    "        after.set_previous(before)\n",
    "        node.set_next(None)\n",
    "        node.set_previous(None)\n",
    "        self.__size -= 1"
   ]
  },
  {
   "cell_type": "markdown",
   "metadata": {},
   "source": [
    "**T1 (5 points)**: Using the constructor from the **DoublyLinkedList**, create a new doubly linked list of integers from 1 to 10."
   ]
  },
  {
   "cell_type": "code",
   "execution_count": 3,
   "metadata": {},
   "outputs": [
    {
     "name": "stdout",
     "output_type": "stream",
     "text": [
      "1\n",
      "2\n",
      "3\n",
      "4\n",
      "5\n",
      "6\n",
      "7\n",
      "8\n",
      "9\n",
      "10\n",
      "Trailer\n"
     ]
    }
   ],
   "source": [
    "doubleList = DoublyLinkedList();\n",
    "for i in range(1, 11):\n",
    "    doubleList.add_last(Node(i))\n",
    "    \n",
    "for i in doubleList:\n",
    "    print(i.get_element())\n"
   ]
  },
  {
   "cell_type": "markdown",
   "metadata": {},
   "source": [
    "## Using a Doubly Linked List\n",
    "\n",
    "The given **DoublyLinkedList** Python class\n",
    "contains helpful methods for using a doubly linked list.\n",
    "Answer the following questions while implementing\n",
    "the methods of the **DoublyLinkedList** class.\n",
    "\n",
    "**T2 (10 points)**: Implement the `size` method that returns the size of a doubly linked list.\n",
    "\n",
    "```python\n",
    "def size(self):\n",
    "  \"\"\"Returns the number of elements in the list.\"\"\"\n",
    "  pass \n",
    "```"
   ]
  },
  {
   "cell_type": "code",
   "execution_count": null,
   "metadata": {
    "collapsed": true
   },
   "outputs": [],
   "source": [
    "#Test your implementation here"
   ]
  },
  {
   "cell_type": "markdown",
   "metadata": {},
   "source": [
    "**T3 (5 points)**: Implement the `is_empty` method that checks\n",
    "whether a doubly linked list is empty.\n",
    "\n",
    "```python\n",
    "def is_empty(self):\n",
    "  \"\"\"Returns the number of elements in the list\"\"\"\n",
    "  pass\n",
    "```"
   ]
  },
  {
   "cell_type": "code",
   "execution_count": null,
   "metadata": {
    "collapsed": true
   },
   "outputs": [],
   "source": [
    "#Test your implementation here"
   ]
  },
  {
   "cell_type": "markdown",
   "metadata": {},
   "source": [
    "**T4 (10 points)**: Implement the methods `get_first` and `get_last`\n",
    "to get the first and the last element of the list, respectively.\n",
    "\n",
    "_Hint_: Return an exception in case the list is empty.\n",
    "\n",
    "```python\n",
    "def get_first(self):\n",
    "  \"\"\"Get the first element of the list\"\"\"\n",
    "  pass\n",
    "\n",
    "def get_last(self):\n",
    "  \"\"\"Get the last element of the list\"\"\"\n",
    "  pass\n",
    "```"
   ]
  },
  {
   "cell_type": "code",
   "execution_count": null,
   "metadata": {
    "collapsed": true
   },
   "outputs": [],
   "source": [
    "#Test your implementation here"
   ]
  },
  {
   "cell_type": "markdown",
   "metadata": {},
   "source": [
    "**T5 (10 points)**: Implement the methods `get_previous` and `get_next`\n",
    "to get the previous and the next node of the list, respectively.\n",
    "\n",
    "_Hint_: Return an exception in case the list is empty.\n",
    "\n",
    "```python\n",
    "def get_previous(self, node):\n",
    "  \"\"\"Returns the node before the given node\"\"\"\n",
    "  pass      \n",
    "\n",
    "def get_next(self, node):\n",
    "  \"\"\"Returns the node after the given node\"\"\"\n",
    "  pass\n",
    "```"
   ]
  },
  {
   "cell_type": "code",
   "execution_count": null,
   "metadata": {
    "collapsed": true
   },
   "outputs": [],
   "source": [
    "#Test your implementation here"
   ]
  },
  {
   "cell_type": "markdown",
   "metadata": {},
   "source": [
    "**T6 (10 points)**: Implement the methods `add_before` and `add_after`\n",
    "to respectively insert new elements before and after a node of the list.\n",
    "\n",
    "```python\n",
    "def add_before(self, new, existing):\n",
    "  \"\"\"Insert the new before existing\"\"\"\n",
    "  pass\n",
    "\n",
    "def add_after(self, new, existing):\n",
    "  \"\"\"Insert the new after existing\"\"\"\n",
    "  pass\n",
    "```"
   ]
  },
  {
   "cell_type": "code",
   "execution_count": null,
   "metadata": {
    "collapsed": true
   },
   "outputs": [],
   "source": [
    "#Test your implementation here"
   ]
  },
  {
   "cell_type": "markdown",
   "metadata": {},
   "source": [
    "**T7 (10 points)**: Implement the methods `add_first` and `add_first`\n",
    "to respectively insert new nodes in the beginning and in the end of a list.\n",
    "\n",
    "```python\n",
    "def add_first(self, new):\n",
    "  \"\"\"Insert the node at the head of the list\"\"\"\n",
    "  pass\n",
    "\n",
    "def add_last(self, new):\n",
    "  \"\"\"Insert the node at the tail of the list\"\"\"\n",
    "  pass\n",
    "```"
   ]
  },
  {
   "cell_type": "code",
   "execution_count": null,
   "metadata": {
    "collapsed": true
   },
   "outputs": [],
   "source": [
    "#Test your implementation here"
   ]
  },
  {
   "cell_type": "markdown",
   "metadata": {},
   "source": [
    "**T8 (10 points)**: Implement the method `remove` to remove\n",
    "a node from a list.\n",
    "\n",
    "```python\n",
    "def remove(self, node):\n",
    "  \"\"\"Removes the given node from the list\"\"\"\n",
    "  pass\n",
    "```"
   ]
  },
  {
   "cell_type": "code",
   "execution_count": null,
   "metadata": {
    "collapsed": true
   },
   "outputs": [],
   "source": [
    "#Test your implementation here"
   ]
  },
  {
   "cell_type": "markdown",
   "metadata": {},
   "source": [
    "**T9 (10 points)**: Implement the method `map` to apply a function on\n",
    "each element of a list.\n",
    "\n",
    "```python\n",
    "def map(self, function):\n",
    "  \"\"\"Run function on every element in the list\"\"\"\n",
    "  pass\n",
    "```"
   ]
  },
  {
   "cell_type": "code",
   "execution_count": null,
   "metadata": {
    "collapsed": true
   },
   "outputs": [],
   "source": [
    "#Test your implementation here"
   ]
  },
  {
   "cell_type": "markdown",
   "metadata": {},
   "source": [
    "**T10 (10 points)**: Implement the method `next` to iterate the elements\n",
    "of a list.\n",
    "\n",
    "```python\n",
    "\"\"\"Standard methods for Python iterator\"\"\"\n",
    "def __iter__(self):\n",
    "  pass\n",
    "\n",
    "def __next__(self):\n",
    "  pass\n",
    "```"
   ]
  },
  {
   "cell_type": "code",
   "execution_count": null,
   "metadata": {
    "collapsed": true
   },
   "outputs": [],
   "source": [
    "#Test your implementation here"
   ]
  },
  {
   "cell_type": "markdown",
   "metadata": {},
   "source": [
    "\n",
    "## Applying methods of the DoublyLinkedList and Node classes\n",
    "\n",
    "Answer the following questions by using\n",
    "the implemented methods from the Node and DoublyLinkedList classes.\n",
    "Apply your operations on the list you created in T1."
   ]
  },
  {
   "cell_type": "markdown",
   "metadata": {},
   "source": [
    "**T11 (5 points)**: Add 2 to each element of the list.\n",
    "\n",
    "_Hint_: Use the method `map`."
   ]
  },
  {
   "cell_type": "code",
   "execution_count": 4,
   "metadata": {},
   "outputs": [
    {
     "name": "stdout",
     "output_type": "stream",
     "text": [
      "3\n",
      "4\n",
      "5\n",
      "6\n",
      "7\n",
      "8\n",
      "9\n",
      "10\n",
      "11\n",
      "12\n",
      "Trailer\n"
     ]
    }
   ],
   "source": [
    "doubleList.map(lambda x: x+2)\n",
    "\n",
    "for i in doubleList:\n",
    "    print(i.get_element())"
   ]
  },
  {
   "cell_type": "markdown",
   "metadata": {},
   "source": [
    "\n",
    "**T12 (5 points)**: Multiply each element of the list by 5.\n",
    "\n",
    "_Hint_: Use the method `map`."
   ]
  },
  {
   "cell_type": "code",
   "execution_count": 6,
   "metadata": {},
   "outputs": [
    {
     "name": "stdout",
     "output_type": "stream",
     "text": [
      "75\n",
      "100\n",
      "125\n",
      "150\n",
      "175\n",
      "200\n",
      "225\n",
      "250\n",
      "275\n",
      "300\n",
      "Trailer\n"
     ]
    }
   ],
   "source": [
    "doubleList.map(lambda x: x*5)\n",
    "\n",
    "for i in doubleList:\n",
    "    print(i.get_element())"
   ]
  },
  {
   "cell_type": "markdown",
   "metadata": {},
   "source": [
    "\n",
    "**T13 (5 points)**: Remove elements that are multiplies of 4.\n",
    "\n",
    "_Hint_: Use the methods `next` and `remove`."
   ]
  },
  {
   "cell_type": "code",
   "execution_count": 12,
   "metadata": {},
   "outputs": [
    {
     "name": "stdout",
     "output_type": "stream",
     "text": [
      "75\n",
      "125\n",
      "150\n",
      "175\n",
      "225\n",
      "250\n",
      "275\n",
      "Trailer\n"
     ]
    }
   ],
   "source": [
    "current = doubleList.get_first();\n",
    "while(current != doubleList.get_last().get_next()):\n",
    "    next = current.get_next();\n",
    "    if (current.get_element() % 4 == 0):\n",
    "        doubleList.remove(current);\n",
    "        \n",
    "    current = next;\n",
    "\n",
    "for i in doubleList:\n",
    "    print(i.get_element())"
   ]
  },
  {
   "cell_type": "markdown",
   "metadata": {},
   "source": [
    "\n",
    "**T14 (5 points)**: Remove elements from the list that are odd numbers. \n",
    "\n",
    "_Hint_: Use the methods `get_previous` and `remove`."
   ]
  },
  {
   "cell_type": "code",
   "execution_count": 13,
   "metadata": {},
   "outputs": [
    {
     "name": "stdout",
     "output_type": "stream",
     "text": [
      "150\n",
      "250\n",
      "Trailer\n"
     ]
    }
   ],
   "source": [
    "current = doubleList.get_first();\n",
    "while(current != doubleList.get_last().get_next()):\n",
    "    next = current.get_next();\n",
    "    if (current.get_element() % 2 == 1):\n",
    "        doubleList.remove(current);\n",
    "        \n",
    "    current = next;\n",
    "\n",
    "for i in doubleList:\n",
    "    print(i.get_element())"
   ]
  },
  {
   "cell_type": "markdown",
   "metadata": {},
   "source": [
    "\n",
    "## Proving performance properties\n",
    "\n",
    "**T15 (5 points)**: Prove when the complexity to delete a node in a doubly linked list is $O(1)$ and $O(n)$"
   ]
  },
  {
   "cell_type": "raw",
   "metadata": {},
   "source": [
    "The time complexity is O(1) when the node you want to delete is the first node in the list, because then you only need to get the first node evaluate it and delete it.\n",
    "\n",
    "The time complexity is O(n) when the node you want to delete is the last node in the list, because then you need to evaluate every node in the list before you get to the last and then you can delete it."
   ]
  },
  {
   "cell_type": "markdown",
   "metadata": {},
   "source": [
    "### Sets\n",
    "\n",
    "The following questions ask from you to apply set operations on elements.\n",
    "Keep in mind that you should not use the ready *Sets* library of Python. **Extend the snippet below with your implementation of the Set data structure**. \n",
    "\n",
    "**T16 (5 points)**: Given a list $L = [a, b, c, ...]$ you can create a set, $S$, of elements.\n",
    "Implement a set constructor. "
   ]
  },
  {
   "cell_type": "code",
   "execution_count": 15,
   "metadata": {
    "collapsed": true
   },
   "outputs": [],
   "source": [
    "class Set(object):\n",
    "    \"\"\"Set data structure\"\"\"\n",
    "    \n",
    "    def __init__(self, list):\n",
    "        self.list = list()\n",
    "        \n",
    "        for element in list:\n",
    "            if element not in self.list:\n",
    "                self.list.append(element)"
   ]
  },
  {
   "cell_type": "markdown",
   "metadata": {},
   "source": [
    "**T17 (5 points)**: Given two lists $L1 = [a1, b1, c1, ...]$ and $L2 = [a2, b2, c2, ...]$,\n",
    "implement a $union$ method that returns to a new set $S$."
   ]
  },
  {
   "cell_type": "code",
   "execution_count": null,
   "metadata": {
    "collapsed": true
   },
   "outputs": [],
   "source": [
    "def union(list1, list2):\n",
    "    \"\"\"Union of sets.\"\"\"\n",
    "    return Set(list1 + list2)"
   ]
  },
  {
   "cell_type": "code",
   "execution_count": null,
   "metadata": {
    "collapsed": true
   },
   "outputs": [],
   "source": [
    "#Test your implementation here"
   ]
  },
  {
   "cell_type": "markdown",
   "metadata": {},
   "source": [
    "**T18 (5 points)**: Given two lists $L1 = [a1, b1, c1, ...]$ and $L2 = [a2, b2, c2, ...]$,\n",
    "implement a $difference$ method that returns to a new set $S$."
   ]
  },
  {
   "cell_type": "code",
   "execution_count": null,
   "metadata": {
    "collapsed": true
   },
   "outputs": [],
   "source": [
    "def difference(list1, list2):\n",
    "    \"\"\"Difference between sets.\"\"\"\n",
    "    set_list = list()\n",
    "    for element in list1:\n",
    "        if element not in set_list and element not in list2:\n",
    "            set_list.append(element)\n",
    "    return Set(set_list)"
   ]
  },
  {
   "cell_type": "code",
   "execution_count": null,
   "metadata": {
    "collapsed": true
   },
   "outputs": [],
   "source": [
    "#Test your implementation here"
   ]
  },
  {
   "cell_type": "markdown",
   "metadata": {},
   "source": [
    "**T19 (5 points)**: Given two lists $L1 = [a1, b1, c1, ...]$ and $L2 = [a2, b2, c2, ...]$,\n",
    "implement a $intersection$ method that returns to a new set $S$."
   ]
  },
  {
   "cell_type": "code",
   "execution_count": null,
   "metadata": {
    "collapsed": true
   },
   "outputs": [],
   "source": [
    "def intersection(list1, list2):\n",
    "  \"\"\"Intersection between sets.\"\"\"\n",
    "    set_list = list()\n",
    "    for element in list1:\n",
    "        if element not in set_list and element in list2:\n",
    "            set_list.append(element)\n",
    "    return Set(set_list)"
   ]
  },
  {
   "cell_type": "code",
   "execution_count": null,
   "metadata": {
    "collapsed": true
   },
   "outputs": [],
   "source": [
    "#Test your implementation here"
   ]
  },
  {
   "cell_type": "markdown",
   "metadata": {
    "collapsed": true
   },
   "source": [
    "### Dictionaries\n",
    "\n",
    "A dictionary is an abstract data type\n",
    "that represents a collection of (key, value) pairs.\n",
    "Given two lists of elements, such as the following,\n",
    "we can use a dictionary to reduce complexity\n",
    "of searching for a specific element in the data structure.\n",
    "\n",
    "**T20 (10 points)**: Implement a dictionary as a collection of (key, value) pairs.\n",
    "\n",
    "_Hint_: You should not use the *dict* from Python.\n",
    "\n",
    "$Names = [``Max\", ``David\", ``Sophie\", ``Anne\", ... ]$\n",
    "\n",
    "$Grades = [``10\", ``7\", ``8\", ``10\", ... ]$"
   ]
  },
  {
   "cell_type": "code",
   "execution_count": 17,
   "metadata": {
    "collapsed": true
   },
   "outputs": [],
   "source": [
    "class Dictionary(object):\n",
    "    \"\"\"Dictionary data structure\"\"\"\n",
    "    \n",
    "    def __init__(self, keys, values):\n",
    "        self.pairs = list(zip(keys,values));\n",
    "        \n",
    "    def get(self, key):\n",
    "        return [y for x,y in self.pairs if x == key][0]\n",
    "    \n",
    "    def add(self, key, value):\n",
    "        old_value = [y for x,y in self.pairs if x == key]\n",
    "        if len(old_value) != 0:\n",
    "            self.pairs.remove((key, old_value[0]))\n",
    "        self.pairs.append((key,value))"
   ]
  },
  {
   "cell_type": "code",
   "execution_count": null,
   "metadata": {
    "collapsed": true
   },
   "outputs": [],
   "source": [
    "#Test your implementation here"
   ]
  },
  {
   "cell_type": "markdown",
   "metadata": {},
   "source": [
    "**T21 (10 points)**: Implement the `add` and the `get` method. (Note: if an existing key is added again the corresponding value should be updated to the new value)"
   ]
  },
  {
   "cell_type": "code",
   "execution_count": 19,
   "metadata": {},
   "outputs": [
    {
     "name": "stdout",
     "output_type": "stream",
     "text": [
      "7\n",
      "9\n",
      "6\n"
     ]
    }
   ],
   "source": [
    "names = [\"Max\", \"David\", \"Sophie\", \"Anne\"];\n",
    "grades = [10, 7, 8, 10];\n",
    "\n",
    "dictionary = Dictionary(names, grades);\n",
    "print(dictionary.get(\"David\"));\n",
    "\n",
    "dictionary.add(\"Rick\", 9);\n",
    "print(dictionary.get(\"Rick\"));\n",
    "\n",
    "dictionary.add(\"David\", 6);\n",
    "print(dictionary.get(\"David\"));"
   ]
  }
 ],
 "metadata": {
  "kernelspec": {
   "display_name": "Python 3",
   "language": "python",
   "name": "python3"
  },
  "language_info": {
   "codemirror_mode": {
    "name": "ipython",
    "version": 3
   },
   "file_extension": ".py",
   "mimetype": "text/x-python",
   "name": "python",
   "nbconvert_exporter": "python",
   "pygments_lexer": "ipython3",
   "version": "3.6.2"
  }
 },
 "nbformat": 4,
 "nbformat_minor": 2
}
