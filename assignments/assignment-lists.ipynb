{
 "cells": [
  {
   "cell_type": "markdown",
   "metadata": {},
   "source": [
    "### Doubly Linked List\n",
    "\n",
    "The purpose of this assignment is to make you familiar with implementing a data structure in Python in an object oriented way.\n",
    "During the lectures, you were presented pseudo code of different basic data structures. Now we expect you to implement one of these structures yourself.\n",
    "\n",
    "To make it clear what is needed, we will provide you with two classes: **Node** and **DoublyLinkedList**. The first one is already implemented (you don't need to modify it), the second one consist only a structure of empty methods defined. Your task is to come up with an implementation of these methods.\n",
    "\n",
    "_Note_: If a list is doubly linked, each node contains a reference to the _previous_ node in the chain and a reference to the _next_ node.\n",
    "\n",
    "You are expected to implement every function in DoublyLinkedList. Including the *next()* function, which is used by an iterator object in python. The *map(func)* function applies a function to every element in the list.\n",
    "All other functions are available in the slides/book."
   ]
  },
  {
   "cell_type": "markdown",
   "metadata": {},
   "source": [
    "## Constructing a Doubly Linked List\n",
    "\n",
    "The **Node** class implementation is already given:"
   ]
  },
  {
   "cell_type": "code",
   "execution_count": 1,
   "metadata": {
    "collapsed": true
   },
   "outputs": [],
   "source": [
    "class Node(object):\n",
    "    \"\"\"Doubly linked node which stores an object\"\"\"\n",
    "\n",
    "    def __init__(self, element, next_node=None, previous_node=None):\n",
    "        self.__element = element\n",
    "        self.__next_node = next_node\n",
    "        self.__previous_node = previous_node\n",
    "\n",
    "    def get_element(self):\n",
    "        \"\"\"Returns the element stored in this node\"\"\"\n",
    "        return self.__element\n",
    "\n",
    "    def get_previous(self):\n",
    "        \"\"\"Returns the previous linked node\"\"\"\n",
    "        return self.__previous_node\n",
    "\n",
    "    def get_next(self):\n",
    "        \"\"\"Returns the next linked node\"\"\"\n",
    "        return self.__next_node\n",
    "\n",
    "    def set_element(self, element):\n",
    "        \"\"\"Sets the element stored in this node\"\"\"\n",
    "        self.__element = element\n",
    "\n",
    "    def set_previous(self, previous_node):\n",
    "        \"\"\"Sets the previous linked node\"\"\"\n",
    "        self.__previous_node = previous_node\n",
    "\n",
    "    def set_next(self, next_node):\n",
    "        \"\"\"Sets the next linked node\"\"\"\n",
    "        self.__next_node = next_node"
   ]
  },
  {
   "cell_type": "markdown",
   "metadata": {},
   "source": [
    "The following code snippet is a constructor provided by the **DoublyLinkedList** Python class for the creation of a new doubly linked list. **Extend the snippet below with your implementation of the DoublyLinkedList**. "
   ]
  },
  {
   "cell_type": "code",
   "execution_count": 2,
   "metadata": {
    "collapsed": true
   },
   "outputs": [],
   "source": [
    "class DoublyLinkedList(object):\n",
    "    \"\"\"Doubly linked node data structure\"\"\"\n",
    "\n",
    "    def __init__(self):\n",
    "        self.__size = 0\n",
    "        self.__header = Node('Header')\n",
    "        self.__trailer = Node('Trailer')\n",
    "        self.__header.set_next(self.__trailer)\n",
    "        self.__trailer.set_previous(self.__header)\n",
    "        self.__current = None\n",
    "        \n",
    "    def __iter__(self):\n",
    "        \"\"\"Standard python iterator method\"\"\"\n",
    "        pass\n",
    "\n",
    "    def __next__(self):\n",
    "        \"\"\"Standard python iterator method\"\"\"\n",
    "        pass\n",
    "\n",
    "    def map(self, function):\n",
    "        \"\"\"Run function on every element in the list\"\"\"\n",
    "        pass\n",
    "\n",
    "    def size(self):\n",
    "        \"\"\"Returns the number of elements in the list\"\"\"\n",
    "        pass\n",
    "\n",
    "    def is_empty(self):\n",
    "        \"\"\"Returns the number of elements in the list\"\"\"\n",
    "        pass\n",
    "\n",
    "    def get_first(self):\n",
    "        \"\"\"Get the first element of the list\"\"\"\n",
    "        pass\n",
    "\n",
    "    def get_last(self):\n",
    "        \"\"\"Get the last element of the list\"\"\"\n",
    "        pass\n",
    "\n",
    "    def get_previous(self, node):\n",
    "        \"\"\"Returns the node before the given node\"\"\"\n",
    "        pass\n",
    "\n",
    "    def get_next(self, node):\n",
    "        \"\"\"Returns the node after the given node\"\"\"\n",
    "        pass\n",
    "\n",
    "    def add_before(self, new, existing):\n",
    "        \"\"\"Insert the new before existing\"\"\"\n",
    "        pass\n",
    "\n",
    "    def add_after(self, new, existing):\n",
    "        \"\"\"Insert the new after existing\"\"\"\n",
    "        pass\n",
    "\n",
    "    def add_first(self, new):\n",
    "        \"\"\"Insert the node at the head of the list\"\"\"\n",
    "        pass\n",
    "\n",
    "    def add_last(self, new):\n",
    "        \"\"\"Insert the node at the tail of the list\"\"\"\n",
    "        pass\n",
    "\n",
    "    def remove(self, node):\n",
    "        \"\"\"Remove the given node from the list\"\"\"\n",
    "        pass"
   ]
  },
  {
   "cell_type": "markdown",
   "metadata": {},
   "source": [
    "**T1 (5 points)**: Using the constructor from the **DoublyLinkedList**, create a new doubly linked list of random integers between 1 and 10."
   ]
  },
  {
   "cell_type": "code",
   "execution_count": null,
   "metadata": {
    "collapsed": true
   },
   "outputs": [],
   "source": []
  },
  {
   "cell_type": "markdown",
   "metadata": {},
   "source": [
    "## Using a Doubly Linked List\n",
    "\n",
    "The given **DoublyLinkedList** Python class\n",
    "contains helpful methods for using a doubly linked list.\n",
    "Answer the following questions while implementing\n",
    "the methods of the **DoublyLinkedList** class.\n",
    "\n",
    "**T2 (10 points)**: Implement the `size` method that returns the size of a doubly linked list.\n",
    "\n",
    "```python\n",
    "def size(self):\n",
    "  \"\"\"Returns the number of elements in the list.\"\"\"\n",
    "  pass \n",
    "```"
   ]
  },
  {
   "cell_type": "code",
   "execution_count": null,
   "metadata": {
    "collapsed": true
   },
   "outputs": [],
   "source": [
    "#Test your implementation here"
   ]
  },
  {
   "cell_type": "markdown",
   "metadata": {},
   "source": [
    "**T3 (5 points)**: Implement the `is_empty` method that checks\n",
    "whether a doubly linked list is empty.\n",
    "\n",
    "```python\n",
    "def is_empty(self):\n",
    "  \"\"\"Returns the number of elements in the list\"\"\"\n",
    "  pass\n",
    "```"
   ]
  },
  {
   "cell_type": "code",
   "execution_count": null,
   "metadata": {
    "collapsed": true
   },
   "outputs": [],
   "source": [
    "#Test your implementation here"
   ]
  },
  {
   "cell_type": "markdown",
   "metadata": {},
   "source": [
    "**T4 (10 points)**: Implement the methods `get_first` and `get_last`\n",
    "to get the first and the last element of the list, respectively.\n",
    "\n",
    "_Hint_: Return an exception in case the list is empty.\n",
    "\n",
    "```python\n",
    "def get_first(self):\n",
    "  \"\"\"Get the first element of the list\"\"\"\n",
    "  pass\n",
    "\n",
    "def get_last(self):\n",
    "  \"\"\"Get the last element of the list\"\"\"\n",
    "  pass\n",
    "```"
   ]
  },
  {
   "cell_type": "code",
   "execution_count": null,
   "metadata": {
    "collapsed": true
   },
   "outputs": [],
   "source": [
    "#Test your implementation here"
   ]
  },
  {
   "cell_type": "markdown",
   "metadata": {},
   "source": [
    "**T5 (10 points)**: Implement the methods `get_previous` and `get_next`\n",
    "to get the previous and the next node of the list, respectively.\n",
    "\n",
    "_Hint_: Return an exception in case the list is empty.\n",
    "\n",
    "```python\n",
    "def get_previous(self, node):\n",
    "  \"\"\"Returns the node before the given node\"\"\"\n",
    "  pass      \n",
    "\n",
    "def get_next(self, node):\n",
    "  \"\"\"Returns the node after the given node\"\"\"\n",
    "  pass\n",
    "```"
   ]
  },
  {
   "cell_type": "code",
   "execution_count": null,
   "metadata": {
    "collapsed": true
   },
   "outputs": [],
   "source": [
    "#Test your implementation here"
   ]
  },
  {
   "cell_type": "markdown",
   "metadata": {},
   "source": [
    "**T6 (10 points)**: Implement the methods `add_before` and `add_after`\n",
    "to respectively insert new elements before and after a node of the list.\n",
    "\n",
    "```python\n",
    "def add_before(self, new, existing):\n",
    "  \"\"\"Insert the new before existing\"\"\"\n",
    "  pass\n",
    "\n",
    "def add_after(self, new, existing):\n",
    "  \"\"\"Insert the new after existing\"\"\"\n",
    "  pass\n",
    "```"
   ]
  },
  {
   "cell_type": "code",
   "execution_count": null,
   "metadata": {
    "collapsed": true
   },
   "outputs": [],
   "source": [
    "#Test your implementation here"
   ]
  },
  {
   "cell_type": "markdown",
   "metadata": {},
   "source": [
    "**T7 (10 points)**: Implement the methods `add_first` and `add_first`\n",
    "to respectively insert new nodes in the beginning and in the end of a list.\n",
    "\n",
    "```python\n",
    "def add_first(self, new):\n",
    "  \"\"\"Insert the node at the head of the list\"\"\"\n",
    "  pass\n",
    "\n",
    "def add_last(self, new):\n",
    "  \"\"\"Insert the node at the tail of the list\"\"\"\n",
    "  pass\n",
    "```"
   ]
  },
  {
   "cell_type": "code",
   "execution_count": null,
   "metadata": {
    "collapsed": true
   },
   "outputs": [],
   "source": [
    "#Test your implementation here"
   ]
  },
  {
   "cell_type": "markdown",
   "metadata": {},
   "source": [
    "**T8 (10 points)**: Implement the method `remove` to remove\n",
    "a node from a list.\n",
    "\n",
    "```python\n",
    "def remove(self, node):\n",
    "  \"\"\"Removes the given node from the list\"\"\"\n",
    "  pass\n",
    "```"
   ]
  },
  {
   "cell_type": "code",
   "execution_count": null,
   "metadata": {
    "collapsed": true
   },
   "outputs": [],
   "source": [
    "#Test your implementation here"
   ]
  },
  {
   "cell_type": "markdown",
   "metadata": {},
   "source": [
    "**T9 (10 points)**: Implement the method `map` to apply a function on\n",
    "each element of a list.\n",
    "\n",
    "```python\n",
    "def map(self, function):\n",
    "  \"\"\"Run function on every element in the list\"\"\"\n",
    "  pass\n",
    "```"
   ]
  },
  {
   "cell_type": "code",
   "execution_count": null,
   "metadata": {
    "collapsed": true
   },
   "outputs": [],
   "source": [
    "#Test your implementation here"
   ]
  },
  {
   "cell_type": "markdown",
   "metadata": {},
   "source": [
    "**T10 (10 points)**: Implement the method `next` to iterate the elements\n",
    "of a list.\n",
    "\n",
    "```python\n",
    "\"\"\"Standard methods for Python iterator\"\"\"\n",
    "def __iter__(self):\n",
    "  pass\n",
    "\n",
    "def __next__(self):\n",
    "  pass\n",
    "```"
   ]
  },
  {
   "cell_type": "code",
   "execution_count": null,
   "metadata": {
    "collapsed": true
   },
   "outputs": [],
   "source": [
    "#Test your implementation here"
   ]
  },
  {
   "cell_type": "markdown",
   "metadata": {},
   "source": [
    "\n",
    "## Applying methods of the DoublyLinkedList and Node classes\n",
    "\n",
    "Answer the following questions by using\n",
    "the implemented methods from the Node and DoublyLinkedList classes.\n",
    "Apply your operations on the list you created in T1."
   ]
  },
  {
   "cell_type": "markdown",
   "metadata": {},
   "source": [
    "**T11 (5 points)**: Add 2 to each element of the list.\n",
    "\n",
    "_Hint_: Use the methods `next`, `add_before`, and `add_after`."
   ]
  },
  {
   "cell_type": "code",
   "execution_count": null,
   "metadata": {
    "collapsed": true
   },
   "outputs": [],
   "source": []
  },
  {
   "cell_type": "markdown",
   "metadata": {},
   "source": [
    "\n",
    "**T12 (5 points)**: Multiply each element of the list by 5.\n",
    "\n",
    "_Hint_: Use the methods `map`, `get_previous`, and `set_element`."
   ]
  },
  {
   "cell_type": "code",
   "execution_count": null,
   "metadata": {
    "collapsed": true
   },
   "outputs": [],
   "source": []
  },
  {
   "cell_type": "markdown",
   "metadata": {},
   "source": [
    "\n",
    "**T13 (5 points)**: Remove elements that are multiplied by 5.\n",
    "\n",
    "_Hint_: Use the methods `next` and `remove`."
   ]
  },
  {
   "cell_type": "code",
   "execution_count": null,
   "metadata": {
    "collapsed": true
   },
   "outputs": [],
   "source": []
  },
  {
   "cell_type": "markdown",
   "metadata": {},
   "source": [
    "\n",
    "**T14 (5 points)**: Remove elements from the list that are odd numbers. \n",
    "\n",
    "_Hint_: Use the methods `get_previous` and `remove`."
   ]
  },
  {
   "cell_type": "code",
   "execution_count": null,
   "metadata": {
    "collapsed": true
   },
   "outputs": [],
   "source": []
  },
  {
   "cell_type": "markdown",
   "metadata": {},
   "source": [
    "## Proving performance properties\n",
    "\n",
    "**T15 (5 points)**: Prove when the complexity to delete a node in a doubly linked list is $O(1)$\n",
    "and $O(n)$."
   ]
  },
  {
   "cell_type": "raw",
   "metadata": {},
   "source": []
  },
  {
   "cell_type": "markdown",
   "metadata": {},
   "source": [
    "### Sets\n",
    "\n",
    "The following questions ask from you to apply set operations on elements.\n",
    "Keep in mind that you should not use the ready *Sets* library of Python. **Extend the snippet below with your implementation of the Set data structure**. \n",
    "\n",
    "**T16 (5 points)**: Given a list $L = [a, b, c, ...]$ you can create a set, $S$, of elements.\n",
    "Implement a set constructor. "
   ]
  },
  {
   "cell_type": "code",
   "execution_count": 3,
   "metadata": {
    "collapsed": true
   },
   "outputs": [],
   "source": [
    "class Set(object):\n",
    "    \"\"\"Set data structure\"\"\"\n",
    "    def __init__(self, list):\n",
    "        pass"
   ]
  },
  {
   "cell_type": "code",
   "execution_count": null,
   "metadata": {
    "collapsed": true
   },
   "outputs": [],
   "source": [
    "#Test your implementation here"
   ]
  },
  {
   "cell_type": "markdown",
   "metadata": {},
   "source": [
    "**T17 (5 points)**: Given two lists $L1 = [a1, b1, c1, ...]$ and $L2 = [a2, b2, c2, ...]$,\n",
    "implement a $union$ method that returns to a new set $S$."
   ]
  },
  {
   "cell_type": "code",
   "execution_count": null,
   "metadata": {
    "collapsed": true
   },
   "outputs": [],
   "source": [
    "def union(list1, list2):\n",
    "    \"\"\"Union of sets.\"\"\"\n",
    "    pass"
   ]
  },
  {
   "cell_type": "code",
   "execution_count": null,
   "metadata": {
    "collapsed": true
   },
   "outputs": [],
   "source": [
    "#Test your implementation here"
   ]
  },
  {
   "cell_type": "markdown",
   "metadata": {},
   "source": [
    "**T18 (5 points)**: Given two lists $L1 = [a1, b1, c1, ...]$ and $L2 = [a2, b2, c2, ...]$,\n",
    "implement a $diffence$ method that returns to a new set $S$."
   ]
  },
  {
   "cell_type": "code",
   "execution_count": null,
   "metadata": {
    "collapsed": true
   },
   "outputs": [],
   "source": [
    "def difference(list1, list2):\n",
    "    \"\"\"Difference between sets.\"\"\"\n",
    "    pass"
   ]
  },
  {
   "cell_type": "code",
   "execution_count": null,
   "metadata": {
    "collapsed": true
   },
   "outputs": [],
   "source": [
    "#Test your implementation here"
   ]
  },
  {
   "cell_type": "markdown",
   "metadata": {},
   "source": [
    "**T19 (5 points)**: Given two lists $L1 = [a1, b1, c1, ...]$ and $L2 = [a2, b2, c2, ...]$,\n",
    "implement a $intersection$ method that returns to a new set $S$."
   ]
  },
  {
   "cell_type": "code",
   "execution_count": null,
   "metadata": {
    "collapsed": true
   },
   "outputs": [],
   "source": [
    "def intersection(list1, list2):\n",
    "    \"\"\"Intersection between sets.\"\"\"\n",
    "    pass"
   ]
  },
  {
   "cell_type": "code",
   "execution_count": null,
   "metadata": {
    "collapsed": true
   },
   "outputs": [],
   "source": [
    "#Test your implementation here"
   ]
  },
  {
   "cell_type": "markdown",
   "metadata": {
    "collapsed": true
   },
   "source": [
    "### Dictionaries\n",
    "\n",
    "A dictionary is an abstract data type\n",
    "that represents a collection of (key, value) pairs.\n",
    "Given two lists of elements, such as the following,\n",
    "we can use a dictionary to reduce complexity\n",
    "of searching for a specific element in the data structure.\n",
    "\n",
    "**T20 (10 points)**: Implement a dictionary as a collection of (key, value) pairs.\n",
    "\n",
    "_Hint_: You should not use the *dict* from Python.\n",
    "\n",
    "$Names = [``Max\", ``David\", ``Sophie\", ``Anne\", ... ]$\n",
    "\n",
    "$Grades = [``10\", ``7\", ``8\", ``10\", ... ]$"
   ]
  },
  {
   "cell_type": "code",
   "execution_count": null,
   "metadata": {
    "collapsed": true
   },
   "outputs": [],
   "source": [
    "class Dictionary(object):\n",
    "    \"\"\"Dictionary data structure\"\"\"\n",
    "    \n",
    "    def __init__(self, keys, values):\n",
    "        pass\n",
    "    \n",
    "    def get(self, key):\n",
    "        pass\n",
    "    \n",
    "    def add(self, key, value):\n",
    "        pass"
   ]
  },
  {
   "cell_type": "code",
   "execution_count": null,
   "metadata": {
    "collapsed": true
   },
   "outputs": [],
   "source": [
    "#Test your implementation here"
   ]
  },
  {
   "cell_type": "markdown",
   "metadata": {},
   "source": [
    "**T21 (10 points)**: Implement the `add` and the `get` method. (Note: if an existing key is added again the corresponding value should be updated to the new value)"
   ]
  },
  {
   "cell_type": "code",
   "execution_count": null,
   "metadata": {
    "collapsed": true
   },
   "outputs": [],
   "source": [
    "#You can test your implementation here"
   ]
  }
 ],
 "metadata": {
  "kernelspec": {
   "display_name": "Python 3",
   "language": "python",
   "name": "python3"
  },
  "language_info": {
   "codemirror_mode": {
    "name": "ipython",
    "version": 3
   },
   "file_extension": ".py",
   "mimetype": "text/x-python",
   "name": "python",
   "nbconvert_exporter": "python",
   "pygments_lexer": "ipython3",
   "version": "3.6.2"
  }
 },
 "nbformat": 4,
 "nbformat_minor": 2
}
