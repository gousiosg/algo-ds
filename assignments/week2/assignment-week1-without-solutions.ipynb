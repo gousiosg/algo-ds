{
 "cells": [
  {
   "cell_type": "markdown",
   "metadata": {},
   "source": [
    "### Doubly Linked List\n",
    "\n",
    "The purpose of this assignment is to make you familiar with implementing a data structure in Python in an object oriented way.\n",
    "During the lectures, you were presented pseudo code of different basic data structures. Now we expect you to implement one of these structures yourself.\n",
    "\n",
    "To make it clear what is needed, we will provide you with two classes: **Node** and **DoublyLinkedList**. The first one is already implemented (you don't need to modify it), the second one consist only a structure of empty methods defined. Your task is to come up with an implementation of these methods.\n",
    "\n",
    "_Note_: If a list is doubly linked, each node contains a reference to the _previous_ node in the chain and a reference to the _next_ node.\n",
    "\n",
    "You are expected to implement every function in DoublyLinkedList. Including the *next()* function, which is used by an iterator object in python. The *map(func)* function applies a function to every element in the list.\n",
    "All other functions are available in the slides/book."
   ]
  },
  {
   "cell_type": "markdown",
   "metadata": {},
   "source": [
    "## Constructing a Doubly Linked List\n",
    "\n",
    "The following code snippet is a constructor provided by the **DoublyLinkedList** Python class for the creation of a new doubly linked list."
   ]
  },
  {
   "cell_type": "code",
   "execution_count": 4,
   "metadata": {},
   "outputs": [],
   "source": [
    "class Node(object):\n",
    "    \"\"\"Doubly linked node which stores an object\"\"\"\n",
    "\n",
    "    def __init__(self, element, next_node=None, previous_node=None):\n",
    "        self.__element = element\n",
    "        self.__next_node = next_node\n",
    "        self.__previous_node = previous_node\n",
    "\n",
    "    def get_element(self):\n",
    "        \"\"\"Returns the element stored in this node\"\"\"\n",
    "        return self.__element\n",
    "\n",
    "    def get_previous(self):\n",
    "        \"\"\"Returns the previous linked node\"\"\"\n",
    "        return self.__previous_node\n",
    "\n",
    "    def get_next(self):\n",
    "        \"\"\"Returns the next linked node\"\"\"\n",
    "        return self.__next_node\n",
    "\n",
    "    def set_element(self, element):\n",
    "        \"\"\"Sets the element stored in this node\"\"\"\n",
    "        self.__element = element\n",
    "\n",
    "    def set_previous(self, previous_node):\n",
    "        \"\"\"Sets the previous linked node\"\"\"\n",
    "        self.__previous_node = previous_node\n",
    "\n",
    "    def set_next(self, next_node):\n",
    "        \"\"\"Sets the next linked node\"\"\"\n",
    "        self.__next_node = next_node"
   ]
  },
  {
   "cell_type": "code",
   "execution_count": 13,
   "metadata": {
    "collapsed": true
   },
   "outputs": [],
   "source": [
    "class DoublyLinkedList(object):\n",
    "    \"\"\"Doubly linked node data structure\"\"\"\n",
    "\n",
    "    def __init__(self):\n",
    "        self.__size = 0\n",
    "        self.__header = Node('Header')\n",
    "        self.__trailer = Node('Trailer')\n",
    "        self.__header.set_next(self.__trailer)\n",
    "        self.__trailer.set_previous(self.__header)\n",
    "        self.__current = None\n",
    "\n",
    "    def __iter__(self):\n",
    "        return self\n",
    "\n",
    "    def next(self):\n",
    "        \"\"\"Standard python iterator method\"\"\"\n",
    "        pass\n",
    "\n",
    "    def map(self, function):\n",
    "        \"\"\"Run function on every element in the list\"\"\"\n",
    "        pass\n",
    "\n",
    "    def is_empty(self):\n",
    "        \"\"\"Returns the number of elements in the list\"\"\"\n",
    "        pass\n",
    "\n",
    "    def get_first(self):\n",
    "        \"\"\"Get the first element of the list\"\"\"\n",
    "        pass\n",
    "\n",
    "    def get_last(self):\n",
    "        \"\"\"Get the last element of the list\"\"\"\n",
    "        pass\n",
    "\n",
    "    def get_previous(self, node):\n",
    "        \"\"\"Returns the node before the given node\"\"\"\n",
    "        pass\n",
    "\n",
    "    def get_next(self, node):\n",
    "        \"\"\"Returns the node after the given node\"\"\"\n",
    "        pass\n",
    "\n",
    "    def add_before(self, new, existing):\n",
    "        \"\"\"Insert the new before existing\"\"\"\n",
    "        pass\n",
    "\n",
    "    def add_after(self, new, existing):\n",
    "        \"\"\"Insert the new after existing\"\"\"\n",
    "        pass\n",
    "\n",
    "    def add_first(self, new):\n",
    "        \"\"\"Insert the node at the head of the list\"\"\"\n",
    "        pass\n",
    "\n",
    "    def add_last(self, new):\n",
    "        \"\"\"Insert the node at the tail of the list\"\"\"\n",
    "        pass\n",
    "\n",
    "    def remove(self, node):\n",
    "        \"\"\"Removes the given node from the list\"\"\"\n",
    "        pass"
   ]
  },
  {
   "cell_type": "markdown",
   "metadata": {},
   "source": [
    "**T1 (5 points)**: Using the constructor from the **DoublyLinkedList**, create a new doubly linked list of random integers from 1 to 10."
   ]
  },
  {
   "cell_type": "code",
   "execution_count": null,
   "metadata": {
    "collapsed": true
   },
   "outputs": [],
   "source": []
  },
  {
   "cell_type": "markdown",
   "metadata": {},
   "source": [
    "## Using a Doubly Linked List\n",
    "\n",
    "The given **DoublyLinkedList** Python class\n",
    "contains helpful methods for using a doubly linked list.\n",
    "Answer the following questions while implementing\n",
    "the methods of the **DoublyLinkedList** class.\n",
    "\n",
    "**T2 (10 points)**: Implement the `size` method that returns the size of a doubly linked list."
   ]
  },
  {
   "cell_type": "code",
   "execution_count": 25,
   "metadata": {},
   "outputs": [],
   "source": [
    "def func(self):\n",
    "    \"\"\"Returns the number of elements in the list\"\"\"\n",
    "    self.__size\n",
    "    \n",
    "DoublyLinkedList.size = classmethod(func)"
   ]
  },
  {
   "cell_type": "code",
   "execution_count": 26,
   "metadata": {},
   "outputs": [
    {
     "ename": "AttributeError",
     "evalue": "type object 'DoublyLinkedList' has no attribute '__size'",
     "output_type": "error",
     "traceback": [
      "\u001b[0;31m---------------------------------------------------------------------------\u001b[0m",
      "\u001b[0;31mAttributeError\u001b[0m                            Traceback (most recent call last)",
      "\u001b[0;32m<ipython-input-26-cdb346f4aab2>\u001b[0m in \u001b[0;36m<module>\u001b[0;34m()\u001b[0m\n\u001b[1;32m      1\u001b[0m \u001b[0mhi\u001b[0m \u001b[0;34m=\u001b[0m \u001b[0mDoublyLinkedList\u001b[0m\u001b[0;34m(\u001b[0m\u001b[0;34m)\u001b[0m\u001b[0;34m\u001b[0m\u001b[0m\n\u001b[0;32m----> 2\u001b[0;31m \u001b[0mprint\u001b[0m\u001b[0;34m(\u001b[0m\u001b[0mhi\u001b[0m\u001b[0;34m.\u001b[0m\u001b[0msize\u001b[0m\u001b[0;34m(\u001b[0m\u001b[0;34m)\u001b[0m\u001b[0;34m)\u001b[0m\u001b[0;34m\u001b[0m\u001b[0m\n\u001b[0m",
      "\u001b[0;32m<ipython-input-25-bf056a36f070>\u001b[0m in \u001b[0;36mfunc\u001b[0;34m(self)\u001b[0m\n\u001b[1;32m      1\u001b[0m \u001b[0;32mdef\u001b[0m \u001b[0mfunc\u001b[0m\u001b[0;34m(\u001b[0m\u001b[0mself\u001b[0m\u001b[0;34m)\u001b[0m\u001b[0;34m:\u001b[0m\u001b[0;34m\u001b[0m\u001b[0m\n\u001b[1;32m      2\u001b[0m     \u001b[0;34m\"\"\"Returns the number of elements in the list\"\"\"\u001b[0m\u001b[0;34m\u001b[0m\u001b[0m\n\u001b[0;32m----> 3\u001b[0;31m     \u001b[0mself\u001b[0m\u001b[0;34m.\u001b[0m\u001b[0m__size\u001b[0m\u001b[0;34m\u001b[0m\u001b[0m\n\u001b[0m\u001b[1;32m      4\u001b[0m \u001b[0;34m\u001b[0m\u001b[0m\n\u001b[1;32m      5\u001b[0m \u001b[0mDoublyLinkedList\u001b[0m\u001b[0;34m.\u001b[0m\u001b[0msize\u001b[0m \u001b[0;34m=\u001b[0m \u001b[0mclassmethod\u001b[0m\u001b[0;34m(\u001b[0m\u001b[0mfunc\u001b[0m\u001b[0;34m)\u001b[0m\u001b[0;34m\u001b[0m\u001b[0m\n",
      "\u001b[0;31mAttributeError\u001b[0m: type object 'DoublyLinkedList' has no attribute '__size'"
     ]
    }
   ],
   "source": [
    "hi = DoublyLinkedList()\n",
    "print(hi.size())"
   ]
  },
  {
   "cell_type": "code",
   "execution_count": null,
   "metadata": {
    "collapsed": true
   },
   "outputs": [],
   "source": []
  }
 ],
 "metadata": {
  "kernelspec": {
   "display_name": "Python 3",
   "language": "python",
   "name": "python3"
  },
  "language_info": {
   "codemirror_mode": {
    "name": "ipython",
    "version": 3
   },
   "file_extension": ".py",
   "mimetype": "text/x-python",
   "name": "python",
   "nbconvert_exporter": "python",
   "pygments_lexer": "ipython3",
   "version": "3.6.1"
  }
 },
 "nbformat": 4,
 "nbformat_minor": 2
}
